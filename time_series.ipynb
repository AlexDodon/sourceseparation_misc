{
 "cells": [
  {
   "cell_type": "code",
   "execution_count": 18,
   "metadata": {},
   "outputs": [
    {
     "name": "stdout",
     "output_type": "stream",
     "text": [
      "The autoreload extension is already loaded. To reload it, use:\n",
      "  %reload_ext autoreload\n"
     ]
    }
   ],
   "source": [
    "#makes sure to reload our modules on each execution\n",
    "\n",
    "%load_ext autoreload \n",
    "%autoreload 1\n",
    "%aimport gans, preprocessing, sourceSeparation"
   ]
  },
  {
   "cell_type": "code",
   "execution_count": 19,
   "metadata": {},
   "outputs": [],
   "source": [
    "# generates preprocessed datasets for our models\n",
    "\n",
    "batchSize = 1000\n",
    "\n",
    "noise1, noise2, loader1, loader2, loader_mix_val, vallabel, loader_mix_test, testlabel = preprocessing.gen_loaders(\n",
    "    200, \n",
    "    batchSize\n",
    ")"
   ]
  },
  {
   "cell_type": "code",
   "execution_count": null,
   "metadata": {},
   "outputs": [],
   "source": [
    "# declares and trains the gan for spikes \n",
    "\n",
    "gen1 = gans.Generator(inputSize=200, hiddenSize=50, outputSize=79)\n",
    "disc1 = gans.Critic(inputSize=79, hiddenSize=50)\n",
    "\n",
    "print(\"Spike generator training\")\n",
    "\n",
    "gans.adversarial_trainer( \n",
    "    train_loader = loader1, \n",
    "    noise_loader = noise1,\n",
    "    generator = gen1, \n",
    "    discriminator = disc1, \n",
    "    epochs = 25,\n",
    "    learningRate = 0.001,\n",
    "    Diters = 5,\n",
    "    Giters = 1,\n",
    "    printEpochs = 25,\n",
    ")"
   ]
  },
  {
   "cell_type": "code",
   "execution_count": null,
   "metadata": {},
   "outputs": [],
   "source": [
    "# declares and trains the gan for hash\n",
    "\n",
    "gen2 = gans.Generator(inputSize=200, hiddenSize=50, outputSize=79)\n",
    "disc2 = gans.Critic(inputSize=79, hiddenSize=50)\n",
    "print(\"Background generator training\")\n",
    "\n",
    "gans.adversarial_trainer( \n",
    "    train_loader = loader2, \n",
    "    noise_loader = noise2,\n",
    "    generator = gen2, \n",
    "    discriminator = disc2, \n",
    "    epochs = 5,\n",
    "    learningRate = 0.001,\n",
    "    Diters = 5,\n",
    "    Giters = 1,\n",
    "    printEpochs = 5,\n",
    ")"
   ]
  },
  {
   "cell_type": "code",
   "execution_count": null,
   "metadata": {},
   "outputs": [],
   "source": [
    "# separates the samples from loader_mix_val\n",
    "\n",
    "cleanextractedSpikesValidation = sourceSeparation.maxlikelihood_separatesources(\n",
    "    generators=[gen1, gen2],\n",
    "    loader_mix=loader_mix_val,\n",
    "    epochs=500\n",
    ")"
   ]
  },
  {
   "cell_type": "code",
   "execution_count": null,
   "metadata": {},
   "outputs": [],
   "source": [
    "# some interpretation of results\n",
    "\n",
    "import numpy as np\n",
    "import torch\n",
    "import matplotlib.pyplot as plt\n",
    "\n",
    "out = []\n",
    "\n",
    "extractedSpikesValidation = np.array(cleanextractedSpikesValidation)\n",
    "extractedSpikesValidation = torch.from_numpy(extractedSpikesValidation).float()\n",
    "\n",
    "\n",
    "for [window] in extractedSpikesValidation:\n",
    "    out.append(disc1.forward(window.to(device)).data.cpu().numpy())\n",
    "\n",
    "out = np.array(out).flatten()\n",
    "\n",
    "treshold = 0.02\n",
    "\n",
    "res = []\n",
    "\n",
    "for i in out:\n",
    "    if i >= treshold:\n",
    "        res.append(1)\n",
    "    else:\n",
    "        res.append(0)\n",
    "        \n",
    "plt.plot(out)\n",
    "plt.show()\n",
    "plt.plot(res)\n",
    "plt.show()\n",
    "plt.plot(vallabel)\n",
    "plt.show()\n",
    "\n",
    "truepos = 0\n",
    "falsepos = 0\n",
    "trueneg = 0\n",
    "falseneg = 0\n",
    "\n",
    "for i in range(0, len(vallabel)):\n",
    "    if vallabel[i] == 1:\n",
    "        if res[i] == 1:\n",
    "            truepos += 1\n",
    "        else:\n",
    "            falseneg += 1\n",
    "    else:\n",
    "        if res[i] == 1:\n",
    "            falsepos += 1\n",
    "        else:\n",
    "            trueneg += 1\n",
    "\n",
    "precision = truepos / (truepos + falsepos)\n",
    "recall = truepos / (truepos + falseneg)        \n",
    "    \n",
    "print(\"Precision: {}\".format(precision))\n",
    "print(\"Recall: {}\".format(recall))\n",
    "print(\"Accuracy: {}\".format((truepos + trueneg) / len(vallabel)))\n",
    "print(\"F1: {}\".format(2 * ((precision * recall)/(precision+recall))))"
   ]
  }
 ],
 "metadata": {
  "kernelspec": {
   "display_name": "Python 3",
   "language": "python",
   "name": "python3"
  },
  "language_info": {
   "codemirror_mode": {
    "name": "ipython",
    "version": 3
   },
   "file_extension": ".py",
   "mimetype": "text/x-python",
   "name": "python",
   "nbconvert_exporter": "python",
   "pygments_lexer": "ipython3",
   "version": "3.9.2"
  }
 },
 "nbformat": 4,
 "nbformat_minor": 4
}
